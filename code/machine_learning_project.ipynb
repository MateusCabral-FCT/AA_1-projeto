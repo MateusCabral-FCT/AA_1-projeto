{
 "cells": [
  {
   "cell_type": "code",
   "id": "88209640",
   "metadata": {
    "ExecuteTime": {
     "end_time": "2025-10-03T16:48:18.110875Z",
     "start_time": "2025-10-03T16:48:18.106307Z"
    }
   },
   "source": [
    "import numpy as np\n",
    "import pandas as pd\n",
    "import matplotlib.pyplot as plt\n",
    "import sns\n",
    "from sklearn.metrics import mean_squared_error, accuracy_score\n",
    "from sklearn.model_selection import train_test_split\n",
    "from sklearn.preprocessing import StandardScaler\n",
    "from sklearn. preprocessing import PolynomialFeatures\n",
    "from sklearn.pipeline import make_pipeline\n",
    "from sklearn. linear_model import LinearRegression\n",
    "from sklearn. linear_model import Ridge, RidgeCV\n",
    "from sklearn. compose import ColumnTransformer\n",
    "import time\n",
    "\n",
    "WITH_VELOCITIES = True"
   ],
   "outputs": [],
   "execution_count": 265
  },
  {
   "cell_type": "code",
   "id": "24466955",
   "metadata": {
    "ExecuteTime": {
     "end_time": "2025-10-03T16:48:19.592675Z",
     "start_time": "2025-10-03T16:48:18.155775Z"
    }
   },
   "source": [
    "data = pd.read_csv(\"../data/X_train.csv\")\n",
    "data.head()"
   ],
   "outputs": [
    {
     "data": {
      "text/plain": [
       "          t       x_1       y_1     v_x_1     v_y_1       x_2       y_2  \\\n",
       "0  0.000000  1.000000  0.000000  0.000000  0.000000 -0.266467  0.859196   \n",
       "1  0.039062  0.999548  0.000092 -0.023159  0.004731 -0.266261  0.858781   \n",
       "2  0.078125  0.998190  0.000370 -0.046362  0.009474 -0.265641  0.857535   \n",
       "3  0.117188  0.995925  0.000833 -0.069654  0.014239 -0.264606  0.855456   \n",
       "4  0.156250  0.992747  0.001483 -0.093080  0.019040 -0.263154  0.852540   \n",
       "\n",
       "      v_x_2     v_y_2       x_3       y_3     v_x_3     v_y_3  Id  \n",
       "0  0.000000  0.000000 -0.733533 -0.859196  0.000000  0.000000   0  \n",
       "1  0.010574 -0.021257 -0.733287 -0.858874  0.012584  0.016526   1  \n",
       "2  0.021172 -0.042552 -0.732549 -0.857905  0.025189  0.033078   2  \n",
       "3  0.031817 -0.063924 -0.731318 -0.856289  0.037837  0.049685   3  \n",
       "4  0.042533 -0.085412 -0.729592 -0.854022  0.050548  0.066372   4  "
      ],
      "text/html": [
       "<div>\n",
       "<style scoped>\n",
       "    .dataframe tbody tr th:only-of-type {\n",
       "        vertical-align: middle;\n",
       "    }\n",
       "\n",
       "    .dataframe tbody tr th {\n",
       "        vertical-align: top;\n",
       "    }\n",
       "\n",
       "    .dataframe thead th {\n",
       "        text-align: right;\n",
       "    }\n",
       "</style>\n",
       "<table border=\"1\" class=\"dataframe\">\n",
       "  <thead>\n",
       "    <tr style=\"text-align: right;\">\n",
       "      <th></th>\n",
       "      <th>t</th>\n",
       "      <th>x_1</th>\n",
       "      <th>y_1</th>\n",
       "      <th>v_x_1</th>\n",
       "      <th>v_y_1</th>\n",
       "      <th>x_2</th>\n",
       "      <th>y_2</th>\n",
       "      <th>v_x_2</th>\n",
       "      <th>v_y_2</th>\n",
       "      <th>x_3</th>\n",
       "      <th>y_3</th>\n",
       "      <th>v_x_3</th>\n",
       "      <th>v_y_3</th>\n",
       "      <th>Id</th>\n",
       "    </tr>\n",
       "  </thead>\n",
       "  <tbody>\n",
       "    <tr>\n",
       "      <th>0</th>\n",
       "      <td>0.000000</td>\n",
       "      <td>1.000000</td>\n",
       "      <td>0.000000</td>\n",
       "      <td>0.000000</td>\n",
       "      <td>0.000000</td>\n",
       "      <td>-0.266467</td>\n",
       "      <td>0.859196</td>\n",
       "      <td>0.000000</td>\n",
       "      <td>0.000000</td>\n",
       "      <td>-0.733533</td>\n",
       "      <td>-0.859196</td>\n",
       "      <td>0.000000</td>\n",
       "      <td>0.000000</td>\n",
       "      <td>0</td>\n",
       "    </tr>\n",
       "    <tr>\n",
       "      <th>1</th>\n",
       "      <td>0.039062</td>\n",
       "      <td>0.999548</td>\n",
       "      <td>0.000092</td>\n",
       "      <td>-0.023159</td>\n",
       "      <td>0.004731</td>\n",
       "      <td>-0.266261</td>\n",
       "      <td>0.858781</td>\n",
       "      <td>0.010574</td>\n",
       "      <td>-0.021257</td>\n",
       "      <td>-0.733287</td>\n",
       "      <td>-0.858874</td>\n",
       "      <td>0.012584</td>\n",
       "      <td>0.016526</td>\n",
       "      <td>1</td>\n",
       "    </tr>\n",
       "    <tr>\n",
       "      <th>2</th>\n",
       "      <td>0.078125</td>\n",
       "      <td>0.998190</td>\n",
       "      <td>0.000370</td>\n",
       "      <td>-0.046362</td>\n",
       "      <td>0.009474</td>\n",
       "      <td>-0.265641</td>\n",
       "      <td>0.857535</td>\n",
       "      <td>0.021172</td>\n",
       "      <td>-0.042552</td>\n",
       "      <td>-0.732549</td>\n",
       "      <td>-0.857905</td>\n",
       "      <td>0.025189</td>\n",
       "      <td>0.033078</td>\n",
       "      <td>2</td>\n",
       "    </tr>\n",
       "    <tr>\n",
       "      <th>3</th>\n",
       "      <td>0.117188</td>\n",
       "      <td>0.995925</td>\n",
       "      <td>0.000833</td>\n",
       "      <td>-0.069654</td>\n",
       "      <td>0.014239</td>\n",
       "      <td>-0.264606</td>\n",
       "      <td>0.855456</td>\n",
       "      <td>0.031817</td>\n",
       "      <td>-0.063924</td>\n",
       "      <td>-0.731318</td>\n",
       "      <td>-0.856289</td>\n",
       "      <td>0.037837</td>\n",
       "      <td>0.049685</td>\n",
       "      <td>3</td>\n",
       "    </tr>\n",
       "    <tr>\n",
       "      <th>4</th>\n",
       "      <td>0.156250</td>\n",
       "      <td>0.992747</td>\n",
       "      <td>0.001483</td>\n",
       "      <td>-0.093080</td>\n",
       "      <td>0.019040</td>\n",
       "      <td>-0.263154</td>\n",
       "      <td>0.852540</td>\n",
       "      <td>0.042533</td>\n",
       "      <td>-0.085412</td>\n",
       "      <td>-0.729592</td>\n",
       "      <td>-0.854022</td>\n",
       "      <td>0.050548</td>\n",
       "      <td>0.066372</td>\n",
       "      <td>4</td>\n",
       "    </tr>\n",
       "  </tbody>\n",
       "</table>\n",
       "</div>"
      ]
     },
     "execution_count": 266,
     "metadata": {},
     "output_type": "execute_result"
    }
   ],
   "execution_count": 266
  },
  {
   "cell_type": "code",
   "id": "bf9be039",
   "metadata": {
    "ExecuteTime": {
     "end_time": "2025-10-03T16:48:19.688583Z",
     "start_time": "2025-10-03T16:48:19.682092Z"
    }
   },
   "source": [
    "data.columns"
   ],
   "outputs": [
    {
     "data": {
      "text/plain": [
       "Index(['t', 'x_1', 'y_1', 'v_x_1', 'v_y_1', 'x_2', 'y_2', 'v_x_2', 'v_y_2',\n",
       "       'x_3', 'y_3', 'v_x_3', 'v_y_3', 'Id'],\n",
       "      dtype='object')"
      ]
     },
     "execution_count": 267,
     "metadata": {},
     "output_type": "execute_result"
    }
   ],
   "execution_count": 267
  },
  {
   "cell_type": "code",
   "id": "aa48e41b",
   "metadata": {
    "ExecuteTime": {
     "end_time": "2025-10-03T16:48:19.763401Z",
     "start_time": "2025-10-03T16:48:19.752101Z"
    }
   },
   "source": [
    "idx = np.hstack((0,data[data.t == 10].index.values +1))\n",
    "idx. shape, data. t.min(), data. t.max()"
   ],
   "outputs": [
    {
     "data": {
      "text/plain": [
       "((4054,), np.float64(0.0), np.float64(10.0))"
      ]
     },
     "execution_count": 268,
     "metadata": {},
     "output_type": "execute_result"
    }
   ],
   "execution_count": 268
  },
  {
   "cell_type": "code",
   "id": "42dd9f0f",
   "metadata": {
    "ExecuteTime": {
     "end_time": "2025-10-03T16:48:19.953049Z",
     "start_time": "2025-10-03T16:48:19.879206Z"
    }
   },
   "source": [
    "k = np.random. randint(idx. shape [0])\n",
    "print(k)\n",
    "pltidx = range(idx[k],257+idx[k])\n",
    "pltsquare = idx [k]\n",
    "plt.plot(data.x_1[pltidx],data.y_1[pltidx])\n",
    "plt.plot(data.x_2[pltidx],data.y_2[pltidx])\n",
    "plt.plot(data.x_3[pltidx],data.y_3[pltidx])\n",
    "\n",
    "plt.plot(data.x_1[pltsquare],data.y_1[pltsquare],'s')\n",
    "plt.plot(data.x_2[pltsquare],data.y_2[pltsquare], 's' )\n",
    "plt.plot(data.x_3[pltsquare],data.y_3[pltsquare],'s')"
   ],
   "outputs": [
    {
     "name": "stdout",
     "output_type": "stream",
     "text": [
      "865\n"
     ]
    },
    {
     "data": {
      "text/plain": [
       "[<matplotlib.lines.Line2D at 0x1d19629a490>]"
      ]
     },
     "execution_count": 269,
     "metadata": {},
     "output_type": "execute_result"
    },
    {
     "data": {
      "text/plain": [
       "<Figure size 640x480 with 1 Axes>"
      ],
      "image/png": "[encoded data removed]"
     },
     "metadata": {},
     "output_type": "display_data"
    }
   ],
   "execution_count": 269
  },
  {
   "cell_type": "markdown",
   "id": "e8ac56d878b34578",
   "metadata": {},
   "source": [
    "Remove all the found data anomalies\n",
    "\n",
    "#1 - Removed the line with all os"
   ]
  },
  {
   "cell_type": "code",
   "id": "2e42c2b64bd1aa15",
   "metadata": {
    "ExecuteTime": {
     "end_time": "2025-10-03T16:48:20.155020Z",
     "start_time": "2025-10-03T16:48:20.002759Z"
    }
   },
   "source": [
    "data_without_anomalies = data.loc[~((data.x_1 == 0) & (data.y_1 == 0) & (data.v_x_1 == 0) & (data.v_y_1 == 0) &\n",
    "                  (data.x_2 == 0) & (data.y_2 == 0) & (data.v_x_2 == 0) & (data.v_y_2 == 0) &\n",
    "                  (data.x_3 == 0) & (data.y_3 == 0) & (data.v_x_3 == 0) & (data.v_y_3 == 0))]\n",
    "data_without_anomalies = data_without_anomalies.reset_index(drop=True)"
   ],
   "outputs": [],
   "execution_count": 270
  },
  {
   "cell_type": "code",
   "id": "c028ae79",
   "metadata": {
    "ExecuteTime": {
     "end_time": "2025-10-03T16:48:20.225945Z",
     "start_time": "2025-10-03T16:48:20.220588Z"
    }
   },
   "source": [
    "def split_by_initial_positions(data, number_of_trajectories = 4998, test_size=0.1, val_size=0.1):\n",
    "\n",
    "    starts = data.index[np.equal(data[\"t\"], 0.0)].to_list()\n",
    "    starts.append(len(data))\n",
    "\n",
    "    print(\"Number of trajectories:\", len(starts)-1)\n",
    "\n",
    "    all_trajectories = []\n",
    "    for i in range(len(starts)-1):\n",
    "        all_trajectories.append(data.iloc[starts[i]:starts[i+1], :])\n",
    "\n",
    "    np.random.shuffle(all_trajectories)\n",
    "\n",
    "    n_val   = int(number_of_trajectories * val_size)\n",
    "    n_test  = int(number_of_trajectories * test_size)\n",
    "    n_train = number_of_trajectories - n_val - n_test\n",
    "\n",
    "    print(\"Train/Val/Test sizes (in trajectory amount):\", n_train, n_val, n_test)\n",
    "\n",
    "    print(len(all_trajectories), \"trajectories in total\")\n",
    "\n",
    "    train_data = pd.concat(all_trajectories[:n_train], ignore_index=True)\n",
    "    val_data   = pd.concat(all_trajectories[n_train:n_train+n_val],ignore_index=True)\n",
    "    test_data  = pd.concat(all_trajectories[n_train+n_val:n_train+n_val+n_test],ignore_index=True)\n",
    "\n",
    "    return train_data, val_data, test_data"
   ],
   "outputs": [],
   "execution_count": 271
  },
  {
   "cell_type": "code",
   "id": "fa455b0b",
   "metadata": {
    "ExecuteTime": {
     "end_time": "2025-10-03T16:48:20.677300Z",
     "start_time": "2025-10-03T16:48:20.285718Z"
    }
   },
   "source": "train_data, val_data, test_data = split_by_initial_positions(data_without_anomalies,4998)",
   "outputs": [
    {
     "name": "stdout",
     "output_type": "stream",
     "text": [
      "Number of trajectories: 4998\n",
      "Train/Val/Test sizes (in trajectory amount): 4000 499 499\n",
      "4998 trajectories in total\n"
     ]
    }
   ],
   "execution_count": 272
  },
  {
   "cell_type": "markdown",
   "id": "5e4dcab91ce50e3",
   "metadata": {},
   "source": [
    " Task 1.2 - Learn the Baseline Model"
   ]
  },
  {
   "cell_type": "code",
   "id": "3ccf76546789626a",
   "metadata": {
    "ExecuteTime": {
     "end_time": "2025-10-03T16:48:20.732317Z",
     "start_time": "2025-10-03T16:48:20.727966Z"
    }
   },
   "source": [
    "def create_splits(data_for_splts):\n",
    "\n",
    "    data_with_intial_positions = data_for_splts.copy()\n",
    "\n",
    "    initial = data.query(\"t == 0.0\")[['Id','x_1','y_1','x_2','y_2','x_3','y_3']].copy()\n",
    "    initial = initial.rename(columns={\n",
    "        'x_1': 'x0_1', 'y_1': 'y0_1',\n",
    "        'x_2': 'x0_2', 'y_2': 'y0_2',\n",
    "        'x_3': 'x0_3', 'y_3': 'y0_3',\n",
    "    })\n",
    "\n",
    "    if WITH_VELOCITIES:\n",
    "        initial_velocities = data.query(\"t == 0.0\")[['Id','v_x_1','v_y_1','v_x_2','v_y_2','v_x_3','v_y_3']].copy()\n",
    "        initial = initial.merge(initial_velocities, on='Id', how='left')\n",
    "        initial = initial.rename(columns={\n",
    "            'v_x_1': 'v_x_0_1', 'v_y_1': 'v_y_0_1',\n",
    "            'v_x_2': 'v_x_0_2', 'v_y_2': 'v_y_0_2',\n",
    "            'v_x_3': 'v_x_0_3', 'v_y_3': 'v_y_0_3',\n",
    "        })\n",
    "\n",
    "    merged = pd.merge_asof(\n",
    "        data_with_intial_positions.sort_values('Id'),\n",
    "        initial.sort_values('Id'),\n",
    "        on='Id',\n",
    "        direction='backward',\n",
    "        allow_exact_matches=True\n",
    "    )\n",
    "\n",
    "    if not WITH_VELOCITIES:\n",
    "        x_data = merged[['t','x0_1', 'y0_1', 'x0_2', 'y0_2', 'x0_3', 'y0_3']]\n",
    "    else:\n",
    "        x_data = merged[['t','x0_1', 'y0_1', 'x0_2', 'y0_2', 'x0_3', 'y0_3','v_x_0_1', 'v_y_0_1', 'v_x_0_2', 'v_y_0_2', 'v_x_0_3', 'v_y_0_3']]\n",
    "\n",
    "    y_data = merged[['x_1', 'y_1', 'x_2', 'y_2', 'x_3', 'y_3']]\n",
    "\n",
    "    return x_data, y_data\n"
   ],
   "outputs": [],
   "execution_count": 273
  },
  {
   "cell_type": "code",
   "id": "d9b41fda885d5198",
   "metadata": {
    "ExecuteTime": {
     "end_time": "2025-10-03T16:48:20.783867Z",
     "start_time": "2025-10-03T16:48:20.779037Z"
    }
   },
   "source": [
    "def plot_y_yhat(y_test,y_pred, plot_title = \"plot\"):\n",
    "    labels = ['x_1','y_1','x_2','y_2','x_3','y_3']\n",
    "\n",
    "    y_test = np.asarray(y_test)\n",
    "    y_pred = np.asarray(y_pred)\n",
    "    MAX = 500\n",
    "\n",
    "    if len(y_test) > MAX:\n",
    "        idx = np.random.choice(len(y_test),MAX, replace=False)\n",
    "    else:\n",
    "        idx = np.arange(len(y_test))\n",
    "    plt.figure(figsize=(10,10))\n",
    "    for i in range(6):\n",
    "        x0 = np.min(y_test[idx,i])\n",
    "        x1 = np.max(y_test[idx,i])\n",
    "        plt.subplot(3,2,i+1)\n",
    "        plt.scatter(y_test[idx,i],y_pred[idx,i])\n",
    "        plt.xlabel('True '+labels[i])\n",
    "        plt.ylabel('Predicted '+labels[i])\n",
    "        plt.plot([x0,x1],[x0,x1],color='red')\n",
    "        plt.axis('square')\n",
    "    plt.savefig(plot_title+'.pdf')\n",
    "    plt.show()"
   ],
   "outputs": [],
   "execution_count": 274
  },
  {
   "cell_type": "code",
   "id": "1bba28ed31446932",
   "metadata": {
    "ExecuteTime": {
     "end_time": "2025-10-03T16:48:21.937996Z",
     "start_time": "2025-10-03T16:48:20.841034Z"
    }
   },
   "source": [
    "from sklearn.pipeline import make_pipeline\n",
    "\n",
    "x_train, y_train = create_splits(train_data)\n",
    "\n",
    "pipeline = make_pipeline(StandardScaler(),LinearRegression())\n",
    "pipeline.fit(x_train, y_train)\n",
    "\n",
    "x_val, y_val = create_splits(val_data)\n",
    "y_pred = pipeline.predict(x_val)\n",
    "\n",
    "mse = mean_squared_error(y_val, y_pred)\n",
    "print(\"MSE:\",mse)\n",
    "rmse = np.sqrt(mse)\n",
    "print(\"RMSE:\",rmse)\n",
    "\n",
    "x_test, y_test = create_splits(test_data)\n",
    "y_pred = pipeline.predict(x_test)\n",
    "\n",
    "plot_y_yhat(y_test,y_pred)"
   ],
   "outputs": [
    {
     "name": "stdout",
     "output_type": "stream",
     "text": [
      "MSE: 1.6261129555924663\n",
      "RMSE: 1.2751913407769306\n"
     ]
    },
    {
     "data": {
      "text/plain": [
       "<Figure size 1000x1000 with 6 Axes>"
      ],
      "image/png": "[encoded data removed]"
     },
     "metadata": {},
     "output_type": "display_data"
    }
   ],
   "execution_count": 275
  },
  {
   "cell_type": "code",
   "id": "6865157e9d54ef6d",
   "metadata": {
    "ExecuteTime": {
     "end_time": "2025-10-03T16:48:27.628881Z",
     "start_time": "2025-10-03T16:48:21.992679Z"
    }
   },
   "source": [
    "test_data = pd.read_csv(\"../data/X_test.csv\")\n",
    "\n",
    "test_data = test_data.drop(columns=['Id'])\n",
    "\n",
    "if WITH_VELOCITIES:\n",
    "    test_data['v_x_0_1'] = 0\n",
    "    test_data['v_y_0_1'] = 0\n",
    "    test_data['v_x_0_2'] = 0\n",
    "    test_data['v_y_0_2'] = 0\n",
    "    test_data['v_x_0_3'] = 0\n",
    "    test_data['v_y_0_3'] = 0\n",
    "\n",
    "y_testData = pipeline.predict(test_data)\n",
    "\n",
    "submission = pd.DataFrame(y_testData, columns=['x_1','y_1','x_2','y_2','x_3','y_3'])\n",
    "submission.insert(0, 'Id', range(0, len(submission)))\n",
    "\n",
    "submission.to_csv('baseline-model.csv',index=False)"
   ],
   "outputs": [],
   "execution_count": 276
  },
  {
   "cell_type": "code",
   "id": "d7c12c44",
   "metadata": {
    "ExecuteTime": {
     "end_time": "2025-10-03T16:49:37.578452Z",
     "start_time": "2025-10-03T16:48:45.798765Z"
    }
   },
   "source": [
    "import numpy as np\n",
    "import pandas as pd\n",
    "from sklearn.preprocessing import PolynomialFeatures, StandardScaler\n",
    "from sklearn.pipeline import Pipeline\n",
    "from sklearn.linear_model import LinearRegression, RidgeCV\n",
    "from sklearn.metrics import mean_squared_error\n",
    "\n",
    "def validate_poly_regression(X_train, y_train, X_val, y_val, \n",
    "                             regressor=None, degrees=range(1,15), max_features=None):\n",
    "\n",
    "\n",
    "    if regressor is None:\n",
    "        regressor = LinearRegression()\n",
    "\n",
    "    best_rmse = float(\"inf\")\n",
    "    best_model = None\n",
    "\n",
    "\n",
    "    for d in degrees:\n",
    "        pipe = Pipeline([\n",
    "            (\"poly\", PolynomialFeatures(degree=d, include_bias=False)),\n",
    "           # (\"scaler\", StandardScaler()),\n",
    "            (\"regressor\", LinearRegression())\n",
    "        ])\n",
    "\n",
    "        pipe.fit(X_train, y_train)\n",
    "\n",
    "        y_pred = pipe.predict(X_val)\n",
    "        rmse = np.sqrt(mean_squared_error(y_val, y_pred))\n",
    "\n",
    "        n_feats = pipe.named_steps[\"poly\"].n_output_features_\n",
    "        print(f\"Degree {d}: RMSE={rmse:.4f}, Features={n_feats}\")\n",
    "\n",
    "        if rmse < best_rmse and (max_features is None or n_feats <= max_features):\n",
    "            best_rmse = rmse\n",
    "            best_model = pipe\n",
    "\n",
    "    return best_model, best_rmse\n",
    "\n",
    "poly_train_data, poly_val_data, poly_test_data = split_by_initial_positions(data_without_anomalies,20)\n",
    "poly_x_train, poly_y_train = create_splits(poly_train_data)\n",
    "poly_x_val, poly_y_val = create_splits(poly_val_data)\n",
    "best_model, best_rmse = validate_poly_regression(poly_x_train, poly_y_train, poly_x_val, poly_y_val)\n",
    "print(\"Best RMSE:\", best_rmse)"
   ],
   "outputs": [
    {
     "name": "stdout",
     "output_type": "stream",
     "text": [
      "Number of trajectories: 4998\n",
      "Train/Val/Test sizes (in trajectory amount): 16 2 2\n",
      "4998 trajectories in total\n",
      "Degree 1: RMSE=1.5979, Features=7\n",
      "Degree 2: RMSE=1.7098, Features=35\n",
      "Degree 3: RMSE=1.8856, Features=119\n",
      "Degree 4: RMSE=3.6879, Features=329\n",
      "Degree 5: RMSE=7.1516, Features=791\n",
      "Degree 6: RMSE=33.4572, Features=1715\n",
      "Degree 7: RMSE=367.1907, Features=3431\n",
      "Degree 8: RMSE=430.2648, Features=6434\n",
      "Degree 9: RMSE=458.7607, Features=11439\n"
     ]
    },
    {
     "ename": "KeyboardInterrupt",
     "evalue": "",
     "output_type": "error",
     "traceback": [
      "\u001B[31m---------------------------------------------------------------------------\u001B[39m",
      "\u001B[31mKeyboardInterrupt\u001B[39m                         Traceback (most recent call last)",
      "\u001B[36mCell\u001B[39m\u001B[36m \u001B[39m\u001B[32mIn[278]\u001B[39m\u001B[32m, line 43\u001B[39m\n\u001B[32m     41\u001B[39m poly_x_train, poly_y_train = create_splits(poly_train_data)\n\u001B[32m     42\u001B[39m poly_x_val, poly_y_val = create_splits(poly_val_data)\n\u001B[32m---> \u001B[39m\u001B[32m43\u001B[39m best_model, best_rmse = \u001B[43mvalidate_poly_regression\u001B[49m\u001B[43m(\u001B[49m\u001B[43mpoly_x_train\u001B[49m\u001B[43m,\u001B[49m\u001B[43m \u001B[49m\u001B[43mpoly_y_train\u001B[49m\u001B[43m,\u001B[49m\u001B[43m \u001B[49m\u001B[43mpoly_x_val\u001B[49m\u001B[43m,\u001B[49m\u001B[43m \u001B[49m\u001B[43mpoly_y_val\u001B[49m\u001B[43m)\u001B[49m\n\u001B[32m     44\u001B[39m \u001B[38;5;28mprint\u001B[39m(\u001B[33m\"\u001B[39m\u001B[33mBest RMSE:\u001B[39m\u001B[33m\"\u001B[39m, best_rmse)\n",
      "\u001B[36mCell\u001B[39m\u001B[36m \u001B[39m\u001B[32mIn[278]\u001B[39m\u001B[32m, line 26\u001B[39m, in \u001B[36mvalidate_poly_regression\u001B[39m\u001B[34m(X_train, y_train, X_val, y_val, regressor, degrees, max_features)\u001B[39m\n\u001B[32m     19\u001B[39m \u001B[38;5;28;01mfor\u001B[39;00m d \u001B[38;5;129;01min\u001B[39;00m degrees:\n\u001B[32m     20\u001B[39m     pipe = Pipeline([\n\u001B[32m     21\u001B[39m         (\u001B[33m\"\u001B[39m\u001B[33mpoly\u001B[39m\u001B[33m\"\u001B[39m, PolynomialFeatures(degree=d, include_bias=\u001B[38;5;28;01mFalse\u001B[39;00m)),\n\u001B[32m     22\u001B[39m        \u001B[38;5;66;03m# (\"scaler\", StandardScaler()),\u001B[39;00m\n\u001B[32m     23\u001B[39m         (\u001B[33m\"\u001B[39m\u001B[33mregressor\u001B[39m\u001B[33m\"\u001B[39m, LinearRegression())\n\u001B[32m     24\u001B[39m     ])\n\u001B[32m---> \u001B[39m\u001B[32m26\u001B[39m     \u001B[43mpipe\u001B[49m\u001B[43m.\u001B[49m\u001B[43mfit\u001B[49m\u001B[43m(\u001B[49m\u001B[43mX_train\u001B[49m\u001B[43m,\u001B[49m\u001B[43m \u001B[49m\u001B[43my_train\u001B[49m\u001B[43m)\u001B[49m\n\u001B[32m     28\u001B[39m     y_pred = pipe.predict(X_val)\n\u001B[32m     29\u001B[39m     rmse = np.sqrt(mean_squared_error(y_val, y_pred))\n",
      "\u001B[36mFile \u001B[39m\u001B[32m~\\PycharmProjects\\AA_1-projeto\\.venv\\Lib\\site-packages\\sklearn\\base.py:1365\u001B[39m, in \u001B[36m_fit_context.<locals>.decorator.<locals>.wrapper\u001B[39m\u001B[34m(estimator, *args, **kwargs)\u001B[39m\n\u001B[32m   1358\u001B[39m     estimator._validate_params()\n\u001B[32m   1360\u001B[39m \u001B[38;5;28;01mwith\u001B[39;00m config_context(\n\u001B[32m   1361\u001B[39m     skip_parameter_validation=(\n\u001B[32m   1362\u001B[39m         prefer_skip_nested_validation \u001B[38;5;129;01mor\u001B[39;00m global_skip_validation\n\u001B[32m   1363\u001B[39m     )\n\u001B[32m   1364\u001B[39m ):\n\u001B[32m-> \u001B[39m\u001B[32m1365\u001B[39m     \u001B[38;5;28;01mreturn\u001B[39;00m \u001B[43mfit_method\u001B[49m\u001B[43m(\u001B[49m\u001B[43mestimator\u001B[49m\u001B[43m,\u001B[49m\u001B[43m \u001B[49m\u001B[43m*\u001B[49m\u001B[43margs\u001B[49m\u001B[43m,\u001B[49m\u001B[43m \u001B[49m\u001B[43m*\u001B[49m\u001B[43m*\u001B[49m\u001B[43mkwargs\u001B[49m\u001B[43m)\u001B[49m\n",
      "\u001B[36mFile \u001B[39m\u001B[32m~\\PycharmProjects\\AA_1-projeto\\.venv\\Lib\\site-packages\\sklearn\\pipeline.py:663\u001B[39m, in \u001B[36mPipeline.fit\u001B[39m\u001B[34m(self, X, y, **params)\u001B[39m\n\u001B[32m    657\u001B[39m     \u001B[38;5;28;01mif\u001B[39;00m \u001B[38;5;28mself\u001B[39m._final_estimator != \u001B[33m\"\u001B[39m\u001B[33mpassthrough\u001B[39m\u001B[33m\"\u001B[39m:\n\u001B[32m    658\u001B[39m         last_step_params = \u001B[38;5;28mself\u001B[39m._get_metadata_for_step(\n\u001B[32m    659\u001B[39m             step_idx=\u001B[38;5;28mlen\u001B[39m(\u001B[38;5;28mself\u001B[39m) - \u001B[32m1\u001B[39m,\n\u001B[32m    660\u001B[39m             step_params=routed_params[\u001B[38;5;28mself\u001B[39m.steps[-\u001B[32m1\u001B[39m][\u001B[32m0\u001B[39m]],\n\u001B[32m    661\u001B[39m             all_params=params,\n\u001B[32m    662\u001B[39m         )\n\u001B[32m--> \u001B[39m\u001B[32m663\u001B[39m         \u001B[38;5;28;43mself\u001B[39;49m\u001B[43m.\u001B[49m\u001B[43m_final_estimator\u001B[49m\u001B[43m.\u001B[49m\u001B[43mfit\u001B[49m\u001B[43m(\u001B[49m\u001B[43mXt\u001B[49m\u001B[43m,\u001B[49m\u001B[43m \u001B[49m\u001B[43my\u001B[49m\u001B[43m,\u001B[49m\u001B[43m \u001B[49m\u001B[43m*\u001B[49m\u001B[43m*\u001B[49m\u001B[43mlast_step_params\u001B[49m\u001B[43m[\u001B[49m\u001B[33;43m\"\u001B[39;49m\u001B[33;43mfit\u001B[39;49m\u001B[33;43m\"\u001B[39;49m\u001B[43m]\u001B[49m\u001B[43m)\u001B[49m\n\u001B[32m    665\u001B[39m \u001B[38;5;28;01mreturn\u001B[39;00m \u001B[38;5;28mself\u001B[39m\n",
      "\u001B[36mFile \u001B[39m\u001B[32m~\\PycharmProjects\\AA_1-projeto\\.venv\\Lib\\site-packages\\sklearn\\base.py:1365\u001B[39m, in \u001B[36m_fit_context.<locals>.decorator.<locals>.wrapper\u001B[39m\u001B[34m(estimator, *args, **kwargs)\u001B[39m\n\u001B[32m   1358\u001B[39m     estimator._validate_params()\n\u001B[32m   1360\u001B[39m \u001B[38;5;28;01mwith\u001B[39;00m config_context(\n\u001B[32m   1361\u001B[39m     skip_parameter_validation=(\n\u001B[32m   1362\u001B[39m         prefer_skip_nested_validation \u001B[38;5;129;01mor\u001B[39;00m global_skip_validation\n\u001B[32m   1363\u001B[39m     )\n\u001B[32m   1364\u001B[39m ):\n\u001B[32m-> \u001B[39m\u001B[32m1365\u001B[39m     \u001B[38;5;28;01mreturn\u001B[39;00m \u001B[43mfit_method\u001B[49m\u001B[43m(\u001B[49m\u001B[43mestimator\u001B[49m\u001B[43m,\u001B[49m\u001B[43m \u001B[49m\u001B[43m*\u001B[49m\u001B[43margs\u001B[49m\u001B[43m,\u001B[49m\u001B[43m \u001B[49m\u001B[43m*\u001B[49m\u001B[43m*\u001B[49m\u001B[43mkwargs\u001B[49m\u001B[43m)\u001B[49m\n",
      "\u001B[36mFile \u001B[39m\u001B[32m~\\PycharmProjects\\AA_1-projeto\\.venv\\Lib\\site-packages\\sklearn\\linear_model\\_base.py:706\u001B[39m, in \u001B[36mLinearRegression.fit\u001B[39m\u001B[34m(self, X, y, sample_weight)\u001B[39m\n\u001B[32m    704\u001B[39m \u001B[38;5;28;01mif\u001B[39;00m y.ndim == \u001B[32m1\u001B[39m:\n\u001B[32m    705\u001B[39m     \u001B[38;5;28mself\u001B[39m.coef_ = np.ravel(\u001B[38;5;28mself\u001B[39m.coef_)\n\u001B[32m--> \u001B[39m\u001B[32m706\u001B[39m \u001B[38;5;28;43mself\u001B[39;49m\u001B[43m.\u001B[49m\u001B[43m_set_intercept\u001B[49m\u001B[43m(\u001B[49m\u001B[43mX_offset\u001B[49m\u001B[43m,\u001B[49m\u001B[43m \u001B[49m\u001B[43my_offset\u001B[49m\u001B[43m,\u001B[49m\u001B[43m \u001B[49m\u001B[43mX_scale\u001B[49m\u001B[43m)\u001B[49m\n\u001B[32m    707\u001B[39m \u001B[38;5;28;01mreturn\u001B[39;00m \u001B[38;5;28mself\u001B[39m\n",
      "\u001B[36mFile \u001B[39m\u001B[32m~\\PycharmProjects\\AA_1-projeto\\.venv\\Lib\\site-packages\\sklearn\\linear_model\\_base.py:309\u001B[39m, in \u001B[36mLinearModel._set_intercept\u001B[39m\u001B[34m(self, X_offset, y_offset, X_scale)\u001B[39m\n\u001B[32m    305\u001B[39m \u001B[38;5;28;01mif\u001B[39;00m \u001B[38;5;28mself\u001B[39m.fit_intercept:\n\u001B[32m    306\u001B[39m     \u001B[38;5;66;03m# We always want coef_.dtype=X.dtype. For instance, X.dtype can differ from\u001B[39;00m\n\u001B[32m    307\u001B[39m     \u001B[38;5;66;03m# coef_.dtype if warm_start=True.\u001B[39;00m\n\u001B[32m    308\u001B[39m     coef_ = xp.astype(\u001B[38;5;28mself\u001B[39m.coef_, X_scale.dtype, copy=\u001B[38;5;28;01mFalse\u001B[39;00m)\n\u001B[32m--> \u001B[39m\u001B[32m309\u001B[39m     coef_ = \u001B[38;5;28mself\u001B[39m.coef_ = \u001B[43mxp\u001B[49m\u001B[43m.\u001B[49m\u001B[43mdivide\u001B[49m\u001B[43m(\u001B[49m\u001B[43mcoef_\u001B[49m\u001B[43m,\u001B[49m\u001B[43m \u001B[49m\u001B[43mX_scale\u001B[49m\u001B[43m)\u001B[49m\n\u001B[32m    311\u001B[39m     \u001B[38;5;28;01mif\u001B[39;00m coef_.ndim == \u001B[32m1\u001B[39m:\n\u001B[32m    312\u001B[39m         intercept_ = y_offset - X_offset @ coef_\n",
      "\u001B[31mKeyboardInterrupt\u001B[39m: "
     ]
    }
   ],
   "execution_count": 278
  },
  {
   "cell_type": "markdown",
   "id": "6c2d46a4",
   "metadata": {},
   "source": [
    "# Three-Body Problem Prediction\n",
    "\n",
    "## Task 1: Setting the Baseline\n",
    "\n",
    "The goal is to predict the movement of three bodies on a 2D plane given their initial positions, without using numerical solvers. At the initial positions, all velocities are zero.\n",
    "\n",
    "### Data Description:\n",
    "- For each body i (i = 1,2,3):\n",
    "  - Position: $(x_i, y_i)$\n",
    "  - Velocity: $(v_{x_i}, v_{y_i})$\n",
    "\n",
    "### Task 1.1: Data Preparation and Validation Pipeline"
   ]
  },
  {
   "cell_type": "code",
   "id": "79b45332",
   "metadata": {},
   "source": [
    "# Load the training and test data\n",
    "X_train = pd.read_csv('X_train.csv')\n",
    "X_test = pd.read_csv('X_test.csv')\n",
    "\n",
    "# Display basic information about the datasets\n",
    "print(\"Training set shape:\", X_train.shape)\n",
    "print(\"Test set shape:\", X_test.shape)\n",
    "print(\"\\nTraining set columns:\", X_train.columns.tolist())"
   ],
   "outputs": [],
   "execution_count": null
  },
  {
   "cell_type": "markdown",
   "id": "405a3f96",
   "metadata": {},
   "source": [
    "Let's analyze the structure of our data and prepare our validation pipeline. We need to:\n",
    "1. Understand the data structure\n",
    "2. Check for missing values\n",
    "3. Split the data for validation\n",
    "4. Define evaluation metrics"
   ]
  },
  {
   "cell_type": "code",
   "id": "fd196f92",
   "metadata": {},
   "source": [
    "# 1. Data Structure Analysis\n",
    "# Check the first few rows and basic statistics\n",
    "print(\"First few rows of training data:\")\n",
    "display(X_train.head())\n",
    "\n",
    "print(\"\\nBasic statistics of training data:\")\n",
    "display(X_train.describe())\n",
    "\n",
    "# 2. Check for missing values\n",
    "print(\"\\nMissing values in training data:\")\n",
    "print(X_train.isnull().sum())\n",
    "\n",
    "# 3. Prepare validation split\n",
    "# We'll use the last 20% of each trajectory for validation\n",
    "validation_split = 0.2\n",
    "n_samples = len(X_train)\n",
    "n_val = int(n_samples * validation_split)\n",
    "\n",
    "# Split the data\n",
    "X_train_final = X_train[:-n_val]\n",
    "X_val = X_train[-n_val:]\n",
    "\n",
    "print(\"\\nFinal split sizes:\")\n",
    "print(f\"Training set: {len(X_train_final)} samples\")\n",
    "print(f\"Validation set: {len(X_val)} samples\")\n",
    "print(f\"Test set: {len(X_test)} samples\")"
   ],
   "outputs": [],
   "execution_count": null
  },
  {
   "cell_type": "code",
   "id": "cbae2de5",
   "metadata": {},
   "source": [
    "# 4. Define evaluation metrics\n",
    "def calculate_mse(y_true, y_pred):\n",
    "    \"\"\"Calculate Mean Squared Error for position predictions\"\"\"\n",
    "    return np.mean((y_true - y_pred) ** 2)\n",
    "\n",
    "def calculate_trajectory_error(true_positions, pred_positions):\n",
    "    \"\"\"Calculate the average error across the entire trajectory\"\"\"\n",
    "    return np.mean([calculate_mse(true, pred) for true, pred in zip(true_positions, pred_positions)])\n",
    "\n",
    "# Example of how we'll use these metrics\n",
    "print(\"Evaluation metrics are ready to use for:\")\n",
    "print(\"- Position-wise MSE\")\n",
    "print(\"- Trajectory-wise average error\")"
   ],
   "outputs": [],
   "execution_count": null
  },
  {
   "cell_type": "markdown",
   "id": "992a1298",
   "metadata": {},
   "source": [
    "### Visualization of Sample Trajectories\n",
    "\n",
    "Let's visualize some sample trajectories to better understand the data:"
   ]
  },
  {
   "cell_type": "markdown",
   "id": "0a0c7405",
   "metadata": {},
   "source": [
    "# Three-Body Problem Prediction Challenge\n",
    "\n",
    "The goal is to predict the movement of three bodies on a 2D plane given their initial positions, without using numerical solvers. At initial positions, all velocities are zero.\n",
    "\n",
    "## Data Understanding\n",
    "\n",
    "Each trajectory in our dataset:\n",
    "- Contains 258 timesteps\n",
    "- Includes position $(x, y)$ and velocity $(v_x, v_y)$ for each body\n",
    "- May contain zeros after collisions\n",
    "- Starts with zero velocities"
   ]
  },
  {
   "cell_type": "code",
   "id": "e816e662",
   "metadata": {},
   "source": [
    "# Load the training data\n",
    "X_train = pd.read_csv('X_train.csv')\n",
    "X_test = pd.read_csv('X_test.csv')\n",
    "\n",
    "print(\"Training set shape:\", X_train.shape)\n",
    "print(\"Test set shape:\", X_test.shape)\n",
    "\n",
    "# Display first few rows to understand the structure\n",
    "print(\"\\nFirst few rows of training data:\")\n",
    "print(X_train.head())"
   ],
   "outputs": [],
   "execution_count": null
  },
  {
   "cell_type": "code",
   "id": "ff4e0be0",
   "metadata": {},
   "source": [
    "# Function to reshape the data into trajectories\n",
    "def reshape_trajectories(data, n_timesteps=258):\n",
    "    # Each trajectory has 12 features (x, y, vx, vy for each of the 3 bodies)\n",
    "    n_features = 12\n",
    "    n_trajectories = len(data) // n_timesteps\n",
    "    \n",
    "    # Reshape the data into (n_trajectories, n_timesteps, n_features)\n",
    "    trajectories = data.values.reshape(n_trajectories, n_timesteps, n_features)\n",
    "    \n",
    "    return trajectories\n",
    "\n",
    "# Reshape the training data\n",
    "trajectories = reshape_trajectories(X_train)\n",
    "\n",
    "print(\"Number of trajectories:\", trajectories.shape[0])\n",
    "print(\"Number of timesteps per trajectory:\", trajectories.shape[1])\n",
    "print(\"Number of features per timestep:\", trajectories.shape[2])"
   ],
   "outputs": [],
   "execution_count": null
  },
  {
   "cell_type": "code",
   "id": "f1476f5d",
   "metadata": {},
   "source": [
    "# Function to check for collisions (where all values become zero)\n",
    "def detect_collisions(trajectory):\n",
    "    # Sum all features at each timestep - if zero, it indicates a collision\n",
    "    timestep_sums = np.sum(np.abs(trajectory), axis=1)\n",
    "    collision_mask = timestep_sums == 0\n",
    "    \n",
    "    if np.any(collision_mask):\n",
    "        first_collision = np.argmax(collision_mask)\n",
    "        return first_collision\n",
    "    return None\n",
    "\n",
    "# Analyze collisions in trajectories\n",
    "collision_timesteps = []\n",
    "for i in range(len(trajectories)):\n",
    "    collision_time = detect_collisions(trajectories[i])\n",
    "    if collision_time is not None:\n",
    "        collision_timesteps.append(collision_time)\n",
    "\n",
    "print(f\"Number of trajectories with collisions: {len(collision_timesteps)}\")\n",
    "if collision_timesteps:\n",
    "    print(f\"Average timestep of first collision: {np.mean(collision_timesteps):.2f}\")\n",
    "    print(f\"Earliest collision at timestep: {min(collision_timesteps)}\")\n",
    "    print(f\"Latest collision at timestep: {max(collision_timesteps)}\")"
   ],
   "outputs": [],
   "execution_count": null
  },
  {
   "cell_type": "markdown",
   "id": "c32a9daf",
   "metadata": {},
   "source": [
    "## Trajectory Visualization\n",
    "\n",
    "Let's visualize some sample trajectories to better understand the movement patterns and collision behaviors."
   ]
  },
  {
   "cell_type": "code",
   "id": "8bb26199",
   "metadata": {},
   "source": [
    "# Function to plot a single trajectory\n",
    "def plot_trajectory(trajectory, title=\"Three-Body Trajectory\"):\n",
    "    plt.figure(figsize=(12, 8))\n",
    "    \n",
    "    # Colors for each body\n",
    "    colors = ['b', 'r', 'g']\n",
    "    labels = ['Body 1', 'Body 2', 'Body 3']\n",
    "    \n",
    "    for i in range(3):\n",
    "        # Extract positions for each body\n",
    "        x = trajectory[:, i*4]    # x position\n",
    "        y = trajectory[:, i*4+1]  # y position\n",
    "        \n",
    "        # Plot trajectory\n",
    "        plt.plot(x, y, color=colors[i], label=labels[i], alpha=0.6)\n",
    "        # Plot starting point\n",
    "        plt.scatter(x[0], y[0], color=colors[i], marker='o', s=100)\n",
    "        \n",
    "    plt.title(title)\n",
    "    plt.xlabel('X Position')\n",
    "    plt.ylabel('Y Position')\n",
    "    plt.legend()\n",
    "    plt.grid(True)\n",
    "    plt.axis('equal')\n",
    "    plt.show()\n",
    "\n",
    "# Plot a few sample trajectories\n",
    "for i in range(3):\n",
    "    plot_trajectory(trajectories[i], f\"Trajectory {i+1}\")\n",
    "    \n",
    "# Plot a trajectory with collision (if any exist)\n",
    "if collision_timesteps:\n",
    "    collision_idx = np.argmin(collision_timesteps)  # Get trajectory with earliest collision\n",
    "    plot_trajectory(trajectories[collision_idx], \"Trajectory with Early Collision\")"
   ],
   "outputs": [],
   "execution_count": null
  },
  {
   "cell_type": "markdown",
   "id": "95ad36fb",
   "metadata": {},
   "source": [
    "## Data Statistics and Distribution Analysis\n",
    "\n",
    "Let's analyze the statistical properties of our dataset to better understand the range and distribution of positions and velocities."
   ]
  },
  {
   "cell_type": "code",
   "id": "ece9b221",
   "metadata": {},
   "source": [
    "# Calculate basic statistics for positions and velocities\n",
    "feature_names = []\n",
    "for i in range(1, 4):\n",
    "    feature_names.extend([f'x{i}', f'y{i}', f'vx{i}', f'vy{i}'])\n",
    "\n",
    "# Get statistics for each feature\n",
    "stats = X_train.describe()\n",
    "stats.columns = feature_names\n",
    "print(\"Dataset Statistics:\")\n",
    "print(stats)\n",
    "\n",
    "# Plot distributions of initial positions and velocities\n",
    "plt.figure(figsize=(15, 10))\n",
    "\n",
    "# Initial positions\n",
    "for i in range(6):  # First 6 columns are positions (x1,y1,x2,y2,x3,y3)\n",
    "    plt.subplot(2, 3, i+1)\n",
    "    initial_values = trajectories[:, 0, i]\n",
    "    sns.histplot(initial_values, bins=30)\n",
    "    plt.title(f'Initial {feature_names[i]} Distribution')\n",
    "    plt.xlabel(feature_names[i])\n",
    "    \n",
    "plt.tight_layout()\n",
    "plt.show()\n",
    "\n",
    "# Verify that initial velocities are zero\n",
    "initial_velocities = trajectories[:, 0, 6:]  # Velocities start from index 6\n",
    "print(\"\\nVerifying initial velocities:\")\n",
    "print(\"Max absolute initial velocity:\", np.abs(initial_velocities).max())\n",
    "print(\"Mean absolute initial velocity:\", np.abs(initial_velocities).mean())"
   ],
   "outputs": [],
   "execution_count": null
  }
 ],
 "metadata": {
  "kernelspec": {
   "display_name": "Python 3",
   "language": "python",
   "name": "python3"
  },
  "language_info": {
   "codemirror_mode": {
    "name": "ipython",
    "version": 3
   },
   "file_extension": ".py",
   "mimetype": "text/x-python",
   "name": "python",
   "nbconvert_exporter": "python",
   "pygments_lexer": "ipython3",
   "version": "3.13.7"
  }
 },
 "nbformat": 4,
 "nbformat_minor": 5
}
